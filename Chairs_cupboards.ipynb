{
 "cells": [
  {
   "cell_type": "code",
   "execution_count": 2,
   "metadata": {},
   "outputs": [
    {
     "name": "stdout",
     "output_type": "stream",
     "text": [
      "Status: Optimal\n",
      "Dni_pracy_inżyniera = 25.0\n",
      "Dni_pracy_lakiernika = 15.0\n",
      "Dni_pracy_robota = 30.0\n",
      "Ilosc_krzeseł = 10.0\n",
      "Ilosc_szafek = 0.0\n",
      "Przychód =  333500.0\n"
     ]
    }
   ],
   "source": [
    "# Import funkcji modelującej\n",
    "from pulp import *\n",
    "# Definicja problemu - Maksymalizacja\n",
    "prob = LpProblem(\"The Problem\",LpMaximize)\n",
    "# Definicja zmiennych wraz z ich argumentami\n",
    "x1=LpVariable(\"Ilosc krzeseł\",0,None,LpInteger)\n",
    "x2=LpVariable(\"Ilosc szafek\",0,None,LpInteger)\n",
    "x9=LpVariable(\"Dni pracy inżyniera\",0,30,LpInteger)\n",
    "x10=LpVariable(\"Dni pracy lakiernika\",0,21,LpInteger)\n",
    "x11=LpVariable(\"Dni pracy robota\",0,30,LpInteger)\n",
    "# Funkcja celu\n",
    "prob += 40000*x1 + 50000*x2 - (2*x9*700 + x10*1500 + x11*300)\n",
    "# Definicja ogarniczeń\n",
    "prob += 1.5*x1 + 3*x2 <= x10\n",
    "prob += 5*x1 + 6*x2 <= 2*x9\n",
    "prob += 3*x1 + 4*x2 <= x11\n",
    "# Wybór sposobu rozwiązania problemu\n",
    "prob.solve()\n",
    "# Wyświetlenie statusu rozwiązania\n",
    "print (\"Status:\", LpStatus[prob.status])\n",
    "# Wyświetlenie zoptymalizowanych wartości zmiennych \n",
    "for v in prob.variables():\n",
    "    print (v.name, \"=\", v.varValue)\n",
    "# Wyświetlenie zoptymalizowanej wartości funkcji celu\n",
    "print (\"Przychód = \", value(prob.objective))\n",
    "\n"
   ]
  }
 ],
 "metadata": {
  "kernelspec": {
   "display_name": "Python 3",
   "language": "python",
   "name": "python3"
  },
  "language_info": {
   "codemirror_mode": {
    "name": "ipython",
    "version": 3
   },
   "file_extension": ".py",
   "mimetype": "text/x-python",
   "name": "python",
   "nbconvert_exporter": "python",
   "pygments_lexer": "ipython3",
   "version": "3.6.6"
  }
 },
 "nbformat": 4,
 "nbformat_minor": 2
}
